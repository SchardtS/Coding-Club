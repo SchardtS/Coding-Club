{
 "cells": [
  {
   "cell_type": "markdown",
   "id": "f1cda767-728c-4acf-b20b-9f97e909601a",
   "metadata": {},
   "source": [
    "# Count Sort"
   ]
  },
  {
   "cell_type": "markdown",
   "id": "fdcf5c7c-792c-47e7-9edc-89db20b38e55",
   "metadata": {},
   "source": [
    "## Reading and preparing data"
   ]
  },
  {
   "cell_type": "code",
   "execution_count": 1,
   "id": "25a154e1-0812-444b-9a4a-405e4e80516d",
   "metadata": {},
   "outputs": [],
   "source": [
    "lines = readlines(\"christmas_gifts.txt\");"
   ]
  },
  {
   "cell_type": "code",
   "execution_count": 2,
   "id": "43d3f7ca-a120-4fd8-ba18-b11465674285",
   "metadata": {},
   "outputs": [],
   "source": [
    "line2num(l) = parse(Int, split(l,\" \")[3])\n",
    "numbers = line2num.(lines);"
   ]
  },
  {
   "cell_type": "markdown",
   "id": "a33704d1-15f3-4479-b09d-2acd522bd290",
   "metadata": {},
   "source": [
    "Check that minimum is at least 1 and maximum is not excessive"
   ]
  },
  {
   "cell_type": "code",
   "execution_count": 3,
   "id": "6da1173b-e4e1-40fb-9105-a5383f04274d",
   "metadata": {},
   "outputs": [
    {
     "data": {
      "text/plain": [
       "(1, 500000)"
      ]
     },
     "execution_count": 3,
     "metadata": {},
     "output_type": "execute_result"
    }
   ],
   "source": [
    "minimum(numbers), maximum(numbers)"
   ]
  },
  {
   "cell_type": "markdown",
   "id": "98ddc906-7852-49f9-a18f-80fbfa0a66ec",
   "metadata": {},
   "source": [
    "## Counting elements for each number"
   ]
  },
  {
   "cell_type": "markdown",
   "id": "0e87cfa8-14fd-45cd-b731-05e259c910bd",
   "metadata": {},
   "source": [
    "Usually we would just count how often each number occurs, in our case we need to store the individual elements in a list because they contain additional data."
   ]
  },
  {
   "cell_type": "code",
   "execution_count": 4,
   "id": "7db47bd9-073f-41c4-be50-e946159dfdef",
   "metadata": {},
   "outputs": [],
   "source": [
    "counts = [[] for x in 1:maximum(numbers)];"
   ]
  },
  {
   "cell_type": "code",
   "execution_count": 5,
   "id": "b39f634f-3b57-48f5-b317-17f8c8ef3ba4",
   "metadata": {},
   "outputs": [],
   "source": [
    "for (num, line) in zip(numbers,lines)\n",
    "    push!(counts[num], line)\n",
    "end"
   ]
  },
  {
   "cell_type": "markdown",
   "id": "a5c8b2d1-678c-4695-b618-dce2b0613163",
   "metadata": {},
   "source": [
    "## Sorting the elements based on the counts (short-cut)"
   ]
  },
  {
   "cell_type": "markdown",
   "id": "15cdda86-47ff-43f6-8cba-20df0ac88743",
   "metadata": {},
   "source": [
    "As we don't need indices in our case, we can use a short-cut and just concatenate all lists :)"
   ]
  },
  {
   "cell_type": "code",
   "execution_count": 6,
   "id": "112ce039-4093-4d82-8fef-335539a7de2c",
   "metadata": {},
   "outputs": [],
   "source": [
    "sorted = reduce(vcat, counts);"
   ]
  },
  {
   "cell_type": "markdown",
   "id": "a7f80f74-d559-43fa-a56b-e4418ed9dc9b",
   "metadata": {},
   "source": [
    "## Regular sorting"
   ]
  },
  {
   "cell_type": "code",
   "execution_count": 7,
   "id": "423491b2-4c8d-4414-b3fc-b9c90e8562de",
   "metadata": {},
   "outputs": [],
   "source": [
    "sorted = fill(\"\", size(lines));\n",
    "i = 0\n",
    "# in our special case we don't need pos because it is still part of the string\n",
    "for (pos, elements) in enumerate(counts)\n",
    "    for element in elements\n",
    "        sorted[i+=1] = element\n",
    "    end\n",
    "end"
   ]
  },
  {
   "cell_type": "code",
   "execution_count": 8,
   "id": "dea2dd94-e5b0-4931-83b3-96534441eb51",
   "metadata": {},
   "outputs": [
    {
     "data": {
      "text/plain": [
       "1000000-element Vector{String}:\n",
       " \"Adorable Book 1\"\n",
       " \"Surprising Toy 1\"\n",
       " \"Magical Watch 2\"\n",
       " \"Fantastic Camera 2\"\n",
       " \"Heartwarming Laptop 3\"\n",
       " \"Heartwarming Cookies 4\"\n",
       " \"Festive Watch 4\"\n",
       " \"Joyful Microscope 4\"\n",
       " \"Wonderful Headphones 4\"\n",
       " \"Adorable Book 4\"\n",
       " \"Fantastic Cookies 4\"\n",
       " \"Joyful Camera 4\"\n",
       " \"Joyful Souvenir 5\"\n",
       " ⋮\n",
       " \"Fantastic Camera 499995\"\n",
       " \"Awesome Candy 499995\"\n",
       " \"Magical Phone 499997\"\n",
       " \"Festive Phone 499997\"\n",
       " \"Awesome Souvenir 499998\"\n",
       " \"Creative Book 499998\"\n",
       " \"Heartwarming Souvenir 499998\"\n",
       " \"Sparkling Souvenir 499998\"\n",
       " \"Wonderful Phone 499999\"\n",
       " \"Wonderful Game 499999\"\n",
       " \"Wonderful Camera 500000\"\n",
       " \"Awesome Book 500000\""
      ]
     },
     "execution_count": 8,
     "metadata": {},
     "output_type": "execute_result"
    }
   ],
   "source": [
    "sorted"
   ]
  },
  {
   "cell_type": "markdown",
   "id": "368e9162-3ebc-4e1e-b9e7-70b68036fa84",
   "metadata": {},
   "source": [
    "## Function for runtime testing"
   ]
  },
  {
   "cell_type": "code",
   "execution_count": 9,
   "id": "6944fa7a-a5ea-49b7-b1c5-6c30827176bb",
   "metadata": {},
   "outputs": [
    {
     "data": {
      "text/plain": [
       "count_sort (generic function with 1 method)"
      ]
     },
     "execution_count": 9,
     "metadata": {},
     "output_type": "execute_result"
    }
   ],
   "source": [
    "function count_sort(lines)\n",
    "    numbers = line2num.(lines);\n",
    "    counts = [[] for x in 1:maximum(numbers)];\n",
    "    for (num, line) in zip(numbers,lines)\n",
    "        push!(counts[num], line);\n",
    "    end\n",
    "    return reduce(vcat, counts);\n",
    "end"
   ]
  },
  {
   "cell_type": "code",
   "execution_count": 10,
   "id": "884fa473-14bd-4c05-b00e-91f314ef4a56",
   "metadata": {},
   "outputs": [],
   "source": [
    "# run it once for jit compilation\n",
    "count_sort(lines);"
   ]
  },
  {
   "cell_type": "code",
   "execution_count": 11,
   "id": "3a901cfa-e073-44d7-848b-247f838885d6",
   "metadata": {},
   "outputs": [],
   "source": [
    "using BenchmarkTools"
   ]
  },
  {
   "cell_type": "code",
   "execution_count": 12,
   "id": "f49f9d93-2e3d-49c4-b8d0-6ce8670b3641",
   "metadata": {},
   "outputs": [
    {
     "data": {
      "text/plain": [
       "BenchmarkTools.Trial: 15 samples with 1 evaluation.\n",
       " Range \u001b[90m(\u001b[39m\u001b[36m\u001b[1mmin\u001b[22m\u001b[39m … \u001b[35mmax\u001b[39m\u001b[90m):  \u001b[39m\u001b[36m\u001b[1m284.235 ms\u001b[22m\u001b[39m … \u001b[35m513.393 ms\u001b[39m  \u001b[90m┊\u001b[39m GC \u001b[90m(\u001b[39mmin … max\u001b[90m): \u001b[39m 4.83% … 39.64%\n",
       " Time  \u001b[90m(\u001b[39m\u001b[34m\u001b[1mmedian\u001b[22m\u001b[39m\u001b[90m):     \u001b[39m\u001b[34m\u001b[1m359.891 ms               \u001b[22m\u001b[39m\u001b[90m┊\u001b[39m GC \u001b[90m(\u001b[39mmedian\u001b[90m):    \u001b[39m 5.58%\n",
       " Time  \u001b[90m(\u001b[39m\u001b[32m\u001b[1mmean\u001b[22m\u001b[39m ± \u001b[32mσ\u001b[39m\u001b[90m):   \u001b[39m\u001b[32m\u001b[1m347.467 ms\u001b[22m\u001b[39m ± \u001b[32m 62.352 ms\u001b[39m  \u001b[90m┊\u001b[39m GC \u001b[90m(\u001b[39mmean ± σ\u001b[90m):  \u001b[39m14.37% ± 11.42%\n",
       "\n",
       "  \u001b[39m▃\u001b[39m█\u001b[39m \u001b[39m \u001b[39m \u001b[39m \u001b[39m \u001b[39m \u001b[39m \u001b[39m \u001b[34m \u001b[39m\u001b[39m \u001b[39m \u001b[39m \u001b[39m \u001b[39m \u001b[39m \u001b[32m \u001b[39m\u001b[39m \u001b[39m \u001b[39m▃\u001b[39m \u001b[39m \u001b[39m \u001b[39m \u001b[39m \u001b[39m \u001b[39m \u001b[39m \u001b[39m \u001b[39m \u001b[39m \u001b[39m \u001b[39m \u001b[39m \u001b[39m \u001b[39m \u001b[39m \u001b[39m \u001b[39m \u001b[39m \u001b[39m \u001b[39m \u001b[39m \u001b[39m \u001b[39m \u001b[39m \u001b[39m \u001b[39m \u001b[39m \u001b[39m \u001b[39m \u001b[39m \u001b[39m \u001b[39m \u001b[39m \u001b[39m \u001b[39m \u001b[39m \u001b[39m \u001b[39m \u001b[39m \u001b[39m \n",
       "  \u001b[39m█\u001b[39m█\u001b[39m▁\u001b[39m▁\u001b[39m▁\u001b[39m▁\u001b[39m▇\u001b[39m▁\u001b[39m▁\u001b[39m▁\u001b[34m▇\u001b[39m\u001b[39m▁\u001b[39m▁\u001b[39m▁\u001b[39m▁\u001b[39m▁\u001b[39m▁\u001b[32m▁\u001b[39m\u001b[39m▁\u001b[39m▁\u001b[39m█\u001b[39m▇\u001b[39m▇\u001b[39m▇\u001b[39m▁\u001b[39m▁\u001b[39m▇\u001b[39m▁\u001b[39m▁\u001b[39m▁\u001b[39m▁\u001b[39m▁\u001b[39m▁\u001b[39m▇\u001b[39m▁\u001b[39m▁\u001b[39m▁\u001b[39m▁\u001b[39m▁\u001b[39m▁\u001b[39m▁\u001b[39m▁\u001b[39m▁\u001b[39m▁\u001b[39m▁\u001b[39m▁\u001b[39m▁\u001b[39m▁\u001b[39m▁\u001b[39m▁\u001b[39m▁\u001b[39m▁\u001b[39m▁\u001b[39m▁\u001b[39m▁\u001b[39m▁\u001b[39m▁\u001b[39m▁\u001b[39m▁\u001b[39m▁\u001b[39m▇\u001b[39m \u001b[39m▁\n",
       "  284 ms\u001b[90m           Histogram: frequency by time\u001b[39m          513 ms \u001b[0m\u001b[1m<\u001b[22m\n",
       "\n",
       " Memory estimate\u001b[90m: \u001b[39m\u001b[33m337.84 MiB\u001b[39m, allocs estimate\u001b[90m: \u001b[39m\u001b[33m2927298\u001b[39m."
      ]
     },
     "execution_count": 12,
     "metadata": {},
     "output_type": "execute_result"
    }
   ],
   "source": [
    "@benchmark count_sort(lines)"
   ]
  },
  {
   "cell_type": "code",
   "execution_count": 13,
   "id": "ce299474-ee6e-46cc-a0ee-c0ae31e4f6e0",
   "metadata": {},
   "outputs": [
    {
     "data": {
      "text/plain": [
       "BenchmarkTools.Trial: 16 samples with 1 evaluation.\n",
       " Range \u001b[90m(\u001b[39m\u001b[36m\u001b[1mmin\u001b[22m\u001b[39m … \u001b[35mmax\u001b[39m\u001b[90m):  \u001b[39m\u001b[36m\u001b[1m278.259 ms\u001b[22m\u001b[39m … \u001b[35m518.414 ms\u001b[39m  \u001b[90m┊\u001b[39m GC \u001b[90m(\u001b[39mmin … max\u001b[90m): \u001b[39m 7.21% … 40.36%\n",
       " Time  \u001b[90m(\u001b[39m\u001b[34m\u001b[1mmedian\u001b[22m\u001b[39m\u001b[90m):     \u001b[39m\u001b[34m\u001b[1m292.539 ms               \u001b[22m\u001b[39m\u001b[90m┊\u001b[39m GC \u001b[90m(\u001b[39mmedian\u001b[90m):    \u001b[39m 6.57%\n",
       " Time  \u001b[90m(\u001b[39m\u001b[32m\u001b[1mmean\u001b[22m\u001b[39m ± \u001b[32mσ\u001b[39m\u001b[90m):   \u001b[39m\u001b[32m\u001b[1m313.432 ms\u001b[22m\u001b[39m ± \u001b[32m 60.071 ms\u001b[39m  \u001b[90m┊\u001b[39m GC \u001b[90m(\u001b[39mmean ± σ\u001b[90m):  \u001b[39m13.29% ± 10.05%\n",
       "\n",
       "  \u001b[39m▃\u001b[39m█\u001b[39m▃\u001b[34m \u001b[39m\u001b[39m▃\u001b[39m \u001b[39m \u001b[39m \u001b[39m \u001b[32m \u001b[39m\u001b[39m \u001b[39m \u001b[39m \u001b[39m \u001b[39m \u001b[39m \u001b[39m \u001b[39m \u001b[39m \u001b[39m \u001b[39m \u001b[39m \u001b[39m \u001b[39m \u001b[39m \u001b[39m \u001b[39m \u001b[39m \u001b[39m \u001b[39m \u001b[39m \u001b[39m \u001b[39m \u001b[39m \u001b[39m \u001b[39m \u001b[39m \u001b[39m \u001b[39m \u001b[39m \u001b[39m \u001b[39m \u001b[39m \u001b[39m \u001b[39m \u001b[39m \u001b[39m \u001b[39m \u001b[39m \u001b[39m \u001b[39m \u001b[39m \u001b[39m \u001b[39m \u001b[39m \u001b[39m \u001b[39m \u001b[39m \u001b[39m \u001b[39m \u001b[39m \u001b[39m \u001b[39m \n",
       "  \u001b[39m█\u001b[39m█\u001b[39m█\u001b[34m▇\u001b[39m\u001b[39m█\u001b[39m▇\u001b[39m▇\u001b[39m▁\u001b[39m▁\u001b[32m▇\u001b[39m\u001b[39m▁\u001b[39m▁\u001b[39m▁\u001b[39m▁\u001b[39m▇\u001b[39m▁\u001b[39m▁\u001b[39m▁\u001b[39m▁\u001b[39m▁\u001b[39m▁\u001b[39m▁\u001b[39m▁\u001b[39m▁\u001b[39m▁\u001b[39m▇\u001b[39m▁\u001b[39m▁\u001b[39m▁\u001b[39m▁\u001b[39m▁\u001b[39m▁\u001b[39m▁\u001b[39m▁\u001b[39m▁\u001b[39m▁\u001b[39m▁\u001b[39m▁\u001b[39m▁\u001b[39m▁\u001b[39m▁\u001b[39m▁\u001b[39m▁\u001b[39m▁\u001b[39m▁\u001b[39m▁\u001b[39m▁\u001b[39m▁\u001b[39m▁\u001b[39m▁\u001b[39m▁\u001b[39m▁\u001b[39m▁\u001b[39m▁\u001b[39m▁\u001b[39m▁\u001b[39m▁\u001b[39m▁\u001b[39m▁\u001b[39m▁\u001b[39m▇\u001b[39m \u001b[39m▁\n",
       "  278 ms\u001b[90m           Histogram: frequency by time\u001b[39m          518 ms \u001b[0m\u001b[1m<\u001b[22m\n",
       "\n",
       " Memory estimate\u001b[90m: \u001b[39m\u001b[33m337.84 MiB\u001b[39m, allocs estimate\u001b[90m: \u001b[39m\u001b[33m2927298\u001b[39m."
      ]
     },
     "execution_count": 13,
     "metadata": {},
     "output_type": "execute_result"
    }
   ],
   "source": [
    "@benchmark count_sort(lines)"
   ]
  }
 ],
 "metadata": {
  "kernelspec": {
   "display_name": "Julia 1.8.3",
   "language": "julia",
   "name": "julia-1.8"
  },
  "language_info": {
   "file_extension": ".jl",
   "mimetype": "application/julia",
   "name": "julia",
   "version": "1.8.3"
  }
 },
 "nbformat": 4,
 "nbformat_minor": 5
}
