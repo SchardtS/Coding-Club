{
 "cells": [
  {
   "cell_type": "code",
   "execution_count": 6,
   "id": "049ef603-d048-440b-831a-be5f047a6bc2",
   "metadata": {},
   "outputs": [],
   "source": [
    "using GLMakie"
   ]
  },
  {
   "cell_type": "code",
   "execution_count": 31,
   "id": "d218b263-cf32-4b48-b3cb-da21f14f955c",
   "metadata": {},
   "outputs": [
    {
     "data": {
      "text/plain": [
       "logistic (generic function with 4 methods)"
      ]
     },
     "metadata": {},
     "output_type": "display_data"
    }
   ],
   "source": [
    "function logistic(;N = 100000, T = 100, u0 = 10^-6)\n",
    "    # Right hand side function\n",
    "    f(U)= U*(1-U)\n",
    "    # Discretization\n",
    "    t = collect(LinRange(0.0,T,N))\n",
    "    dt = T/N\n",
    "    # Time stepping\n",
    "    u = zeros(N)\n",
    "    u[1] = u0\n",
    "    for k = 1:(N-1)\n",
    "        u[k+1] = u[k] + dt*f(u[k])\n",
    "    end\n",
    "    return(t,u)\n",
    "end"
   ]
  },
  {
   "cell_type": "code",
   "execution_count": 33,
   "id": "90cab34b-be33-4dca-aea6-7061d593fc8c",
   "metadata": {},
   "outputs": [],
   "source": [
    "result = logistic(T = 20)\n",
    "lines(result...)\n"
   ]
  },
  {
   "cell_type": "code",
   "execution_count": 19,
   "id": "e914891e-d2a4-467b-8a30-e07b3c5eb882",
   "metadata": {},
   "outputs": [
    {
     "data": {
      "text/plain": [
       "SIR (generic function with 10 methods)"
      ]
     },
     "metadata": {},
     "output_type": "display_data"
    }
   ],
   "source": [
    "function SIR(N = 100000, T = 200,  I_0 = 3,S_0 = 1000,R_0 = 0, β = 0.4, ν = 0, γ = 0.04, μ = 0)\n",
    "    # Right hand side function\n",
    "    S_dt(s,i,r)= -β*s*i/(s+i+r)\n",
    "    I_dt(s,i,r) = β*s*i/(s+i+r)-γ*i\n",
    "    R_dt(s,i,r) = γ*i\n",
    "    \n",
    "    # Discretization\n",
    "    t = collect(LinRange(0.0,T,N))\n",
    "    dt = T/N\n",
    "    # Time stepping\n",
    "    S = zeros(N)\n",
    "    I = zeros(N)\n",
    "    R = zeros(N)\n",
    "    S[1] = S_0\n",
    "    I[1] = I_0\n",
    "    R[1] = R_0\n",
    "    for k = 1:(N-1)\n",
    "        S[k+1] = S[k] + dt*S_dt(S[k],I[k],R[k])\n",
    "        I[k+1] = I[k] + dt*I_dt(S[k],I[k],R[k])\n",
    "        R[k+1] = R[k] + dt*R_dt(S[k],I[k],R[k])\n",
    "    end\n",
    "    return(t,S,I,R)\n",
    "end"
   ]
  },
  {
   "cell_type": "code",
   "execution_count": 34,
   "id": "cfb502d0",
   "metadata": {},
   "outputs": [
    {
     "data": {
      "text/plain": [
       "GLMakie.Screen(...)"
      ]
     },
     "metadata": {},
     "output_type": "display_data"
    }
   ],
   "source": [
    "result_SIR = SIR()\n",
    "fig = Figure()\n",
    "ax = Axis(fig[1,1])\n",
    "lines!(ax,result_SIR[1],result_SIR[2], label = \"S\")\n",
    "lines!(ax,result_SIR[1],result_SIR[3], label = \"I\")\n",
    "lines!(ax,result_SIR[1],result_SIR[4], label = \"R\")\n",
    "axislegend(ax, position = :rc)\n",
    "display(fig)"
   ]
  },
  {
   "cell_type": "code",
   "execution_count": null,
   "id": "3d96c3b5",
   "metadata": {},
   "outputs": [],
   "source": []
  }
 ],
 "metadata": {
  "kernelspec": {
   "display_name": "Julia 1.10.0",
   "language": "julia",
   "name": "julia-1.10"
  },
  "language_info": {
   "file_extension": ".jl",
   "mimetype": "application/julia",
   "name": "julia",
   "version": "1.10.0"
  }
 },
 "nbformat": 4,
 "nbformat_minor": 5
}
